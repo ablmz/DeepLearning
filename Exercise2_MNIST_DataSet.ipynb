{
  "nbformat": 4,
  "nbformat_minor": 0,
  "metadata": {
    "colab": {
      "name": "Exercise2_MNIST_DataSet.ipynb",
      "provenance": []
    },
    "kernelspec": {
      "name": "python3",
      "display_name": "Python 3"
    }
  },
  "cells": [
    {
      "cell_type": "markdown",
      "metadata": {
        "id": "K8CoPvx1W7bG"
      },
      "source": [
        "# Exercise 2\r\n",
        "# **Description**\r\n",
        "\r\n",
        "In this second exercise we will focus on MNIST Data and classify the items of handwriting -- the digits 0 through 9.\r\n",
        "\r\n",
        "We write a MNIST classifier that trains to 99% accuracy or above, and does it without a fixed number of epochs -- i.e. we can stop training once we reach that level of accuracy.\r\n",
        "\r\n",
        "\r\n",
        "Some notes:\r\n",
        "It should succeed in less than 10 epochs, so it is okay to change epochs= to 10, but nothing larger\r\n",
        "When it reaches 99% or greater it should print out the string \"Reached 99% accuracy so cancelling training!\"\r\n",
        "If you add any additional variables, make sure you use the same names as the ones used in the class\r\n",
        "I've started the code for you below -- how would you finish it?"
      ]
    },
    {
      "cell_type": "markdown",
      "metadata": {
        "id": "S5i0InQEUqI3"
      },
      "source": [
        "***Imports***"
      ]
    },
    {
      "cell_type": "code",
      "metadata": {
        "id": "k9az6JFQXDKS"
      },
      "source": [
        "import tensorflow as tf\r\n",
        "from os import path, getcwd, chdir\r\n",
        "\r\n",
        "# DO NOT CHANGE THE LINE BELOW. If you are developing in a local\r\n",
        "# environment, then grab mnist.npz from the Coursera Jupyter Notebook\r\n",
        "# and place it inside a local folder and edit the path to that location\r\n",
        "path = f\"{getcwd()}\\..\\tmp2\\mnist.npz\""
      ],
      "execution_count": 31,
      "outputs": []
    },
    {
      "cell_type": "markdown",
      "metadata": {
        "id": "GDNDhHWQVDsq"
      },
      "source": [
        "***Callback Function***\r\n",
        "\r\n",
        "we define a callback funtion in order to stop training once we reach the level of accuracy we want."
      ]
    },
    {
      "cell_type": "code",
      "metadata": {
        "id": "1v_XEs0aY3YS"
      },
      "source": [
        "class myCallback(tf.keras.callbacks.Callback):\r\n",
        "  def on_epoch_end(self, epoch, logs={}):\r\n",
        "    if(logs.get('accuracy')>0.99):\r\n",
        "      print(\"\\nReached 99,5% accuracy so cancelling training!\")\r\n",
        "      self.model.stop_training = True"
      ],
      "execution_count": 32,
      "outputs": []
    },
    {
      "cell_type": "code",
      "metadata": {
        "id": "_sEke2NwaOH3"
      },
      "source": [
        "callbacks=myCallback()"
      ],
      "execution_count": 33,
      "outputs": []
    },
    {
      "cell_type": "markdown",
      "metadata": {
        "id": "MUpADDazVuua"
      },
      "source": [
        "The MNIST data is available directly in the tf.keras datasets API. we load it like this:"
      ]
    },
    {
      "cell_type": "code",
      "metadata": {
        "id": "P8sEs7RlXj5u"
      },
      "source": [
        "mnist = tf.keras.datasets.mnist"
      ],
      "execution_count": 34,
      "outputs": []
    },
    {
      "cell_type": "markdown",
      "metadata": {
        "id": "2KkxgJVfWChz"
      },
      "source": [
        "Calling load_data on this object will give us two sets of two lists, these will be the training and testing values for the graphics that contain the handwriting items and their digits."
      ]
    },
    {
      "cell_type": "code",
      "metadata": {
        "id": "W_DMx8W8XlMu"
      },
      "source": [
        " (x_train, y_train),(x_test, y_test) = mnist.load_data(path=path)"
      ],
      "execution_count": 29,
      "outputs": []
    },
    {
      "cell_type": "code",
      "metadata": {
        "colab": {
          "base_uri": "https://localhost:8080/",
          "height": 787
        },
        "id": "-C2vBhoZZxjV",
        "outputId": "dca3d027-e146-439a-f48d-dae2d92249de"
      },
      "source": [
        "import numpy as np\r\n",
        "np.set_printoptions(linewidth=400)\r\n",
        "import matplotlib.pyplot as plt\r\n",
        "plt.imshow(x_train[75])\r\n",
        "print(y_train[75])\r\n",
        "print(x_train[75])"
      ],
      "execution_count": 30,
      "outputs": [
        {
          "output_type": "stream",
          "text": [
            "0\n",
            "[[  0   0   0   0   0   0   0   0   0   0   0   0   0   0   0   0   0   0   0   0   0   0   0   0   0   0   0   0]\n",
            " [  0   0   0   0   0   0   0   0   0   0   0   0   0   0   0   0   0   0   0   0   0   0   0   0   0   0   0   0]\n",
            " [  0   0   0   0   0   0   0   0   0   0   0   0   0   0   0   0   0   0   0   0   0   0   0   0   0   0   0   0]\n",
            " [  0   0   0   0   0   0   0   0   0   0   0   0   0   0   0   0   0   0   0   0   0   0   0   0   0   0   0   0]\n",
            " [  0   0   0   0   0   0   0   0   0   0   0   0   0   0   0   0   0   0   0   0   0   0   0   0   0   0   0   0]\n",
            " [  0   0   0   0   0   0   0   0   0   0   0   0   0   0  62  91 213 255 228  91  12   0   0   0   0   0   0   0]\n",
            " [  0   0   0   0   0   0   0   0   0   0   0   0   0  70 230 253 253 253 253 253 152   7   0   0   0   0   0   0]\n",
            " [  0   0   0   0   0   0   0   0   0   0   0   0   0 246 253 253 253 253 253 253 253 106   0   0   0   0   0   0]\n",
            " [  0   0   0   0   0   0   0   0   0   0   0   0  21 247 253 253 253 253 253 253 208  24   0   0   0   0   0   0]\n",
            " [  0   0   0   0   0   0   0   0   0   0   0   0 156 253 253 253 253 253 253 253 195   0   0   0   0   0   0   0]\n",
            " [  0   0   0   0   0   0   0   0   0   0   0  88 238 253 253 253 221 253 253 253 195   0   0   0   0   0   0   0]\n",
            " [  0   0   0   0   0   0   0   0   0   0   0 230 253 253 253 198  40 177 253 253 195   0   0   0   0   0   0   0]\n",
            " [  0   0   0   0   0   0   0   0   0  56 156 251 253 189 182  15   0  86 240 253 210  28   0   0   0   0   0   0]\n",
            " [  0   0   0   0   0   0   0   0   0 213 253 253 156   3   0   0   0   0 205 253 253 106   0   0   0   0   0   0]\n",
            " [  0   0   0   0   0   0   0   0 121 252 253 135   3   0   0   0   0   0  46 253 253 106   0   0   0   0   0   0]\n",
            " [  0   0   0   0   0   0   0  28 212 253 248  23   0   0   0   0   0   0  42 253 253 106   0   0   0   0   0   0]\n",
            " [  0   0   0   0   0   0   0 197 253 234  70   0   0   0   0   0   0   0  42 253 253 106   0   0   0   0   0   0]\n",
            " [  0   0   0   0   0   0  11 202 253 187   0   0   0   0   0   0   0   0  58 253 210  27   0   0   0   0   0   0]\n",
            " [  0   0   0   0   0   0 107 253 253  40   0   0   0   0   0   0   0  53 227 253 195   0   0   0   0   0   0   0]\n",
            " [  0   0   0   0   0   0 107 253 253  40   0   0   0   0   0   0  47 227 253 231  58   0   0   0   0   0   0   0]\n",
            " [  0   0   0   0   0   0 107 253 253  40   0   0   0   0   5 131 222 253 231  59   0   0   0   0   0   0   0   0]\n",
            " [  0   0   0   0   0   0  14 204 253 226 222  73  58  58 170 253 253 227  58   0   0   0   0   0   0   0   0   0]\n",
            " [  0   0   0   0   0   0   0 197 253 253 253 253 253 253 253 253 238  58   0   0   0   0   0   0   0   0   0   0]\n",
            " [  0   0   0   0   0   0   0  33 179 241 253 253 253 253 250 116  14   0   0   0   0   0   0   0   0   0   0   0]\n",
            " [  0   0   0   0   0   0   0   0   0  75 179 253 151  89  86   0   0   0   0   0   0   0   0   0   0   0   0   0]\n",
            " [  0   0   0   0   0   0   0   0   0   0   0   0   0   0   0   0   0   0   0   0   0   0   0   0   0   0   0   0]\n",
            " [  0   0   0   0   0   0   0   0   0   0   0   0   0   0   0   0   0   0   0   0   0   0   0   0   0   0   0   0]\n",
            " [  0   0   0   0   0   0   0   0   0   0   0   0   0   0   0   0   0   0   0   0   0   0   0   0   0   0   0   0]]\n"
          ],
          "name": "stdout"
        },
        {
          "output_type": "display_data",
          "data": {
            "image/png": "[encoded data removed]",
            "text/plain": [
              "<Figure size 432x288 with 1 Axes>"
            ]
          },
          "metadata": {
            "tags": [],
            "needs_background": "light"
          }
        }
      ]
    },
    {
      "cell_type": "markdown",
      "metadata": {
        "id": "o5omyUQQcHAp"
      },
      "source": [
        "# Normalization"
      ]
    },
    {
      "cell_type": "code",
      "metadata": {
        "id": "lXOBy9yFZzsN"
      },
      "source": [
        "x_train  = x_train / 255.0\r\n",
        "x_test = x_test / 255.0"
      ],
      "execution_count": 35,
      "outputs": []
    },
    {
      "cell_type": "markdown",
      "metadata": {
        "id": "dh6vj60gc6g0"
      },
      "source": [
        "# Designing the Model"
      ]
    },
    {
      "cell_type": "code",
      "metadata": {
        "id": "CAwvT1O1Z1dd"
      },
      "source": [
        "model = tf.keras.models.Sequential([tf.keras.layers.Flatten(input_shape =(28,28)),\r\n",
        "                                    tf.keras.layers.Dense(128, activation='relu'),\r\n",
        "                                    tf.keras.layers.Dense(10, activation=tf.nn.softmax)])"
      ],
      "execution_count": 36,
      "outputs": []
    },
    {
      "cell_type": "code",
      "metadata": {
        "id": "L9z7zL8JZ3Pa"
      },
      "source": [
        "model.compile(optimizer='Adam', loss='sparse_categorical_crossentropy', metrics=['accuracy'])"
      ],
      "execution_count": 37,
      "outputs": []
    },
    {
      "cell_type": "code",
      "metadata": {
        "colab": {
          "base_uri": "https://localhost:8080/"
        },
        "id": "HgRbiHxkZ4vV",
        "outputId": "e8c900b2-9506-4078-eefc-4694626a4af4"
      },
      "source": [
        "model.fit(x_train, y_train, epochs=10, callbacks=[callbacks])"
      ],
      "execution_count": 38,
      "outputs": [
        {
          "output_type": "stream",
          "text": [
            "Epoch 1/10\n",
            "1875/1875 [==============================] - 4s 2ms/step - loss: 0.4356 - accuracy: 0.8743\n",
            "Epoch 2/10\n",
            "1875/1875 [==============================] - 3s 2ms/step - loss: 0.1184 - accuracy: 0.9660\n",
            "Epoch 3/10\n",
            "1875/1875 [==============================] - 3s 2ms/step - loss: 0.0811 - accuracy: 0.9755\n",
            "Epoch 4/10\n",
            "1875/1875 [==============================] - 3s 2ms/step - loss: 0.0574 - accuracy: 0.9829\n",
            "Epoch 5/10\n",
            "1875/1875 [==============================] - 3s 2ms/step - loss: 0.0443 - accuracy: 0.9866\n",
            "Epoch 6/10\n",
            "1875/1875 [==============================] - 3s 2ms/step - loss: 0.0352 - accuracy: 0.9896\n",
            "Epoch 7/10\n",
            "1875/1875 [==============================] - 4s 2ms/step - loss: 0.0263 - accuracy: 0.9921\n",
            "\n",
            "Reached 99,5% accuracy so cancelling training!\n"
          ],
          "name": "stdout"
        },
        {
          "output_type": "execute_result",
          "data": {
            "text/plain": [
              "<tensorflow.python.keras.callbacks.History at 0x7fccce93a470>"
            ]
          },
          "metadata": {
            "tags": []
          },
          "execution_count": 38
        }
      ]
    },
    {
      "cell_type": "code",
      "metadata": {
        "colab": {
          "base_uri": "https://localhost:8080/"
        },
        "id": "M0-Hyi3jZ6Jl",
        "outputId": "de0683fa-c698-4246-f870-b0227db6ffd3"
      },
      "source": [
        "model.evaluate(x_train, y_train)"
      ],
      "execution_count": 39,
      "outputs": [
        {
          "output_type": "stream",
          "text": [
            "1875/1875 [==============================] - 2s 1ms/step - loss: 0.0210 - accuracy: 0.9938\n"
          ],
          "name": "stdout"
        },
        {
          "output_type": "execute_result",
          "data": {
            "text/plain": [
              "[0.020978065207600594, 0.9938333630561829]"
            ]
          },
          "metadata": {
            "tags": []
          },
          "execution_count": 39
        }
      ]
    },
    {
      "cell_type": "code",
      "metadata": {
        "colab": {
          "base_uri": "https://localhost:8080/"
        },
        "id": "6dMSWaDiZ8at",
        "outputId": "b677fbf0-8698-4004-d5d6-f6027744fdef"
      },
      "source": [
        "model.summary()"
      ],
      "execution_count": 40,
      "outputs": [
        {
          "output_type": "stream",
          "text": [
            "Model: \"sequential_4\"\n",
            "_________________________________________________________________\n",
            "Layer (type)                 Output Shape              Param #   \n",
            "=================================================================\n",
            "flatten_4 (Flatten)          (None, 784)               0         \n",
            "_________________________________________________________________\n",
            "dense_8 (Dense)              (None, 128)               100480    \n",
            "_________________________________________________________________\n",
            "dense_9 (Dense)              (None, 10)                1290      \n",
            "=================================================================\n",
            "Total params: 101,770\n",
            "Trainable params: 101,770\n",
            "Non-trainable params: 0\n",
            "_________________________________________________________________\n"
          ],
          "name": "stdout"
        }
      ]
    },
    {
      "cell_type": "code",
      "metadata": {
        "id": "oXqx-pS1bp6V"
      },
      "source": [
        ""
      ],
      "execution_count": null,
      "outputs": []
    }
  ]
}